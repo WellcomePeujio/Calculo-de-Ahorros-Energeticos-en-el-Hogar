{
  "nbformat": 4,
  "nbformat_minor": 0,
  "metadata": {
    "colab": {
      "private_outputs": true,
      "provenance": [],
      "authorship_tag": "ABX9TyMwpm1LM4u+CjthUrNPPV4Q",
      "include_colab_link": true
    },
    "kernelspec": {
      "name": "python3",
      "display_name": "Python 3"
    },
    "language_info": {
      "name": "python"
    }
  },
  "cells": [
    {
      "cell_type": "markdown",
      "metadata": {
        "id": "view-in-github",
        "colab_type": "text"
      },
      "source": [
        "<a href=\"https://colab.research.google.com/github/WellcomePeujio/Calculo-de-Ahorros-Energeticos-en-el-Hogar/blob/main/C%C3%A1lculo_de_Ahorros_Energ%C3%A9ticos_en_el_Hogar.ipynb\" target=\"_parent\"><img src=\"https://colab.research.google.com/assets/colab-badge.svg\" alt=\"Open In Colab\"/></a>"
      ]
    },
    {
      "cell_type": "markdown",
      "source": [
        "# Cálculo de Ahorros Energéticos en el Hogar\n",
        "\n",
        "## Problema\n",
        "\n",
        "El consumo energético promedio de una casa es de **500 kWh** al mes. Al instalar paneles solares, el consumo se reduce en un **40%**. El costo promedio por kWh es de **$0.15**.\n",
        "\n",
        "## Preguntas:\n",
        "\n",
        "1. **¿Cuánto ahorrará una casa en electricidad cada mes después de instalar los paneles solares?**\n",
        "2. **¿En cuántos meses se recuperará la inversión en paneles solares, que cuesta $4,000, gracias a los ahorros en electricidad?**\n",
        "\n"
      ],
      "metadata": {
        "id": "cBiULfBMVJQM"
      }
    },
    {
      "cell_type": "markdown",
      "source": [
        "# Resolución Matemática: Cálculo de Ahorros Energéticos en el Hogar\n",
        "\n",
        "## Datos del problema:\n",
        "\n",
        "- **Consumo energético promedio mensual**: 500 kWh\n",
        "- **Reducción en el consumo con paneles solares**: 40%\n",
        "- **Costo promedio por kWh**: 0.15 dólares\n",
        "- **Costo de la instalación de paneles solares**: 4,000 dólares\n",
        "\n",
        "## 1. Cálculo del ahorro mensual en electricidad\n",
        "\n",
        "Primero, calculamos la reducción en el consumo energético mensual después de instalar los paneles solares:\n",
        "\n",
        "$$\n",
        "\\text{Reducción en el consumo} = 500 \\times 0.40 = 200 \\, \\text{kWh}\n",
        "$$\n",
        "\n",
        "El nuevo consumo mensual después de la instalación de paneles solares es:\n",
        "\n",
        "$$\n",
        "\\text{Nuevo consumo mensual} = 500 - 200 = 300 \\, \\text{kWh}\n",
        "$$\n",
        "\n",
        "Ahora, calculamos el costo de electricidad antes y después de la instalación:\n",
        "\n",
        "### Costo antes de la instalación:\n",
        "$$\n",
        "\\text{Costo antes} = 500 \\times 0.15 = 75 \\, \\text{dólares}\n",
        "$$\n",
        "\n",
        "### Costo después de la instalación:\n",
        "$$\n",
        "\\text{Costo después} = 300 \\times 0.15 = 45 \\, \\text{dólares}\n",
        "$$\n",
        "\n",
        "### Ahorro mensual:\n",
        "$$\n",
        "\\text{Ahorro mensual} = 75 - 45 = 30 \\, \\text{dólares}\n",
        "$$\n",
        "\n",
        "## 2. Cálculo del tiempo para recuperar la inversión\n",
        "\n",
        "Dado que la inversión en paneles solares es de **$4,000**, calculamos el tiempo necesario para recuperar esta inversión a través de los ahorros mensuales:\n",
        "\n",
        "$$\n",
        "\\text{Meses para recuperar la inversión} = \\frac{\\text{Costo de instalación}}{\\text{Ahorro mensual}}\n",
        "$$\n",
        "\n",
        "Sustituyendo los valores:\n",
        "\n",
        "$$\n",
        "\\text{Meses para recuperar la inversión} = \\frac{4,000}{30} \\approx 133.33 \\, \\text{meses}\n",
        "$$\n",
        "\n",
        "## 3. Resultados\n",
        "\n",
        "- **Ahorro mensual en electricidad**: **$30** dólares\n",
        "- **Meses para recuperar la inversión**: **133.33 meses** (aproximadamente **11 años y 1 mes**)\n",
        "\n",
        "Esto significa que una casa ahorrará **$30** mensuales en su factura de electricidad después de instalar paneles solares y que recuperará la inversión en aproximadamente **11 años**.\n"
      ],
      "metadata": {
        "id": "rif0FqsjVbuW"
      }
    },
    {
      "cell_type": "code",
      "source": [
        "import numpy as np\n",
        "import matplotlib.pyplot as plt\n",
        "\n",
        "# Datos del problema\n",
        "consumo_promedio_mensual = 500  # Consumo energético promedio mensual en kWh\n",
        "reduccion_consumo = 0.40  # Reducción del 40% en el consumo con paneles solares\n",
        "costo_kwh = 0.15  # Costo promedio por kWh en dólares\n",
        "costo_instalacion = 4000  # Costo de la instalación de paneles solares en dólares\n",
        "\n",
        "# Cálculo del ahorro mensual\n",
        "consumo_reducido = consumo_promedio_mensual * (1 - reduccion_consumo)  # Consumo después de instalar los paneles\n",
        "costo_antes = consumo_promedio_mensual * costo_kwh\n",
        "costo_despues = consumo_reducido * costo_kwh\n",
        "ahorro_mensual = costo_antes - costo_despues\n",
        "\n",
        "# Cálculo del tiempo para recuperar la inversión\n",
        "meses_para_recuperar = costo_instalacion / ahorro_mensual\n",
        "\n",
        "# Mostrar resultados\n",
        "print(f\"Ahorro mensual en electricidad: ${ahorro_mensual:.2f}\")\n",
        "print(f\"Meses para recuperar la inversión: {meses_para_recuperar:.2f} meses (aproximadamente {meses_para_recuperar / 12:.1f} años)\")\n",
        "\n",
        "# Graficar el ahorro acumulado a lo largo del tiempo\n",
        "meses = np.arange(0, meses_para_recuperar + 1)\n",
        "ahorro_acumulado = ahorro_mensual * meses\n",
        "\n",
        "# Crear la gráfica\n",
        "plt.figure(figsize=(10, 6))\n",
        "plt.plot(meses, ahorro_acumulado, label='Ahorro Acumulado', color='green', linewidth=2)\n",
        "plt.axhline(y=costo_instalacion, color='red', linestyle='--', label='Costo de Instalación ($4,000)')\n",
        "plt.title('Recuperación de la Inversión en Paneles Solares')\n",
        "plt.xlabel('Meses')\n",
        "plt.ylabel('Ahorro Acumulado en Dólares')\n",
        "plt.legend()\n",
        "plt.grid(True)\n",
        "plt.show()\n"
      ],
      "metadata": {
        "id": "dVm70CBqX08f"
      },
      "execution_count": null,
      "outputs": []
    }
  ]
}